{
 "cells": [
  {
   "cell_type": "code",
   "execution_count": 2,
   "id": "e20b9315",
   "metadata": {},
   "outputs": [],
   "source": [
    "import numpy as np\n",
    "import pandas as pd\n",
    "import difflib\n",
    "from sklearn.feature_extraction.text import TfidfVectorizer\n",
    "from sklearn.metrics.pairwise import cosine_similarity\n",
    "import os"
   ]
  },
  {
   "cell_type": "code",
   "execution_count": 3,
   "id": "986e1b70",
   "metadata": {},
   "outputs": [
    {
     "data": {
      "text/plain": [
       "'C:\\\\Users\\\\HP'"
      ]
     },
     "metadata": {},
     "output_type": "display_data"
    }
   ],
   "source": [
    "display (os.getcwd())"
   ]
  },
  {
   "cell_type": "code",
   "execution_count": 4,
   "id": "b0dd262a",
   "metadata": {},
   "outputs": [
    {
     "data": {
      "text/html": [
       "<div>\n",
       "<style scoped>\n",
       "    .dataframe tbody tr th:only-of-type {\n",
       "        vertical-align: middle;\n",
       "    }\n",
       "\n",
       "    .dataframe tbody tr th {\n",
       "        vertical-align: top;\n",
       "    }\n",
       "\n",
       "    .dataframe thead th {\n",
       "        text-align: right;\n",
       "    }\n",
       "</style>\n",
       "<table border=\"1\" class=\"dataframe\">\n",
       "  <thead>\n",
       "    <tr style=\"text-align: right;\">\n",
       "      <th></th>\n",
       "      <th>index</th>\n",
       "      <th>ID</th>\n",
       "      <th>name</th>\n",
       "      <th>cuisine</th>\n",
       "      <th>taste</th>\n",
       "      <th>dietary_restrictions</th>\n",
       "      <th>meat</th>\n",
       "      <th>KW</th>\n",
       "      <th>overview</th>\n",
       "    </tr>\n",
       "  </thead>\n",
       "  <tbody>\n",
       "    <tr>\n",
       "      <th>0</th>\n",
       "      <td>1</td>\n",
       "      <td>1001</td>\n",
       "      <td>Butter chicken</td>\n",
       "      <td>Indian</td>\n",
       "      <td>spicy</td>\n",
       "      <td>nonvegetarian</td>\n",
       "      <td>chicken</td>\n",
       "      <td>creamy curry chicken tomato-based yogurt cream</td>\n",
       "      <td>Rich, creamy, and slightly sweet, with a mild ...</td>\n",
       "    </tr>\n",
       "    <tr>\n",
       "      <th>1</th>\n",
       "      <td>2</td>\n",
       "      <td>1002</td>\n",
       "      <td>Biryani</td>\n",
       "      <td>Indian</td>\n",
       "      <td>spicy</td>\n",
       "      <td>nonvegetarian</td>\n",
       "      <td>chicken beef</td>\n",
       "      <td>rice _dish spices  chicken beef  vegetables</td>\n",
       "      <td>This dish is a fragrant, flavorful rice dish m...</td>\n",
       "    </tr>\n",
       "    <tr>\n",
       "      <th>2</th>\n",
       "      <td>3</td>\n",
       "      <td>1003</td>\n",
       "      <td>Tandoori Chicken</td>\n",
       "      <td>Indian</td>\n",
       "      <td>spicy</td>\n",
       "      <td>nonvegetarian</td>\n",
       "      <td>chicken</td>\n",
       "      <td>marinated _chicken  spices</td>\n",
       "      <td>This dish is marinated chicken cooked in a tan...</td>\n",
       "    </tr>\n",
       "    <tr>\n",
       "      <th>3</th>\n",
       "      <td>4</td>\n",
       "      <td>1004</td>\n",
       "      <td>Samosa</td>\n",
       "      <td>Indian</td>\n",
       "      <td>savory</td>\n",
       "      <td>vegetarian</td>\n",
       "      <td>no_meat</td>\n",
       "      <td>deep_fried  baked_pastry spiced_potatoes</td>\n",
       "      <td>This dish is a deep-fried or baked pastry fill...</td>\n",
       "    </tr>\n",
       "    <tr>\n",
       "      <th>4</th>\n",
       "      <td>5</td>\n",
       "      <td>1005</td>\n",
       "      <td>Chole Bhature</td>\n",
       "      <td>Indian</td>\n",
       "      <td>spicy</td>\n",
       "      <td>vegetarian</td>\n",
       "      <td>no_meat</td>\n",
       "      <td>spicy_chickpeas  deep_fried bread</td>\n",
       "      <td>This dish consists of spicy chickpeas served w...</td>\n",
       "    </tr>\n",
       "  </tbody>\n",
       "</table>\n",
       "</div>"
      ],
      "text/plain": [
       "   index    ID              name  cuisine    taste dietary_restrictions  \\\n",
       "0      1  1001    Butter chicken  Indian     spicy        nonvegetarian   \n",
       "1      2  1002           Biryani  Indian    spicy        nonvegetarian    \n",
       "2      3  1003  Tandoori Chicken  Indian    spicy         nonvegetarian   \n",
       "3      4  1004            Samosa  Indian   savory            vegetarian   \n",
       "4      5  1005     Chole Bhature  Indian    spicy            vegetarian   \n",
       "\n",
       "           meat                                              KW   \\\n",
       "0       chicken  creamy curry chicken tomato-based yogurt cream    \n",
       "1  chicken beef      rice _dish spices  chicken beef  vegetables   \n",
       "2       chicken                       marinated _chicken  spices   \n",
       "3       no_meat         deep_fried  baked_pastry spiced_potatoes   \n",
       "4       no_meat                spicy_chickpeas  deep_fried bread   \n",
       "\n",
       "                                            overview  \n",
       "0  Rich, creamy, and slightly sweet, with a mild ...  \n",
       "1  This dish is a fragrant, flavorful rice dish m...  \n",
       "2  This dish is marinated chicken cooked in a tan...  \n",
       "3  This dish is a deep-fried or baked pastry fill...  \n",
       "4  This dish consists of spicy chickpeas served w...  "
      ]
     },
     "execution_count": 4,
     "metadata": {},
     "output_type": "execute_result"
    }
   ],
   "source": [
    "os.chdir('D:\\\\programming stuff\\\\pythone\\\\projects\\\\food recommendation system\\\\')\n",
    "food_data =pd.read_csv('org.csv')\n",
    "food_data.head()"
   ]
  },
  {
   "cell_type": "code",
   "execution_count": 5,
   "id": "2914d8f9",
   "metadata": {},
   "outputs": [
    {
     "data": {
      "text/plain": [
       "(240, 9)"
      ]
     },
     "metadata": {},
     "output_type": "display_data"
    }
   ],
   "source": [
    "display (food_data.shape)"
   ]
  },
  {
   "cell_type": "code",
   "execution_count": 6,
   "id": "262e9342",
   "metadata": {},
   "outputs": [
    {
     "name": "stdout",
     "output_type": "stream",
     "text": [
      "['index', 'ID', 'name', 'cuisine', 'taste', 'dietary_restrictions', 'meat']\n"
     ]
    }
   ],
   "source": [
    "selected_features = ['index','ID','name','cuisine','taste','dietary_restrictions','meat']\n",
    "print(selected_features)"
   ]
  },
  {
   "cell_type": "code",
   "execution_count": 7,
   "id": "5d19bc96",
   "metadata": {},
   "outputs": [
    {
     "name": "stdout",
     "output_type": "stream",
     "text": [
      "<class 'pandas.core.frame.DataFrame'>\n",
      "RangeIndex: 240 entries, 0 to 239\n",
      "Data columns (total 9 columns):\n",
      " #   Column                Non-Null Count  Dtype \n",
      "---  ------                --------------  ----- \n",
      " 0   index                 240 non-null    int64 \n",
      " 1   ID                    240 non-null    int64 \n",
      " 2   name                  240 non-null    object\n",
      " 3   cuisine               240 non-null    object\n",
      " 4   taste                 240 non-null    object\n",
      " 5   dietary_restrictions  240 non-null    object\n",
      " 6   meat                  240 non-null    object\n",
      " 7   KW                    240 non-null    object\n",
      " 8   overview              240 non-null    object\n",
      "dtypes: int64(2), object(7)\n",
      "memory usage: 17.0+ KB\n"
     ]
    },
    {
     "data": {
      "text/plain": [
       "None"
      ]
     },
     "metadata": {},
     "output_type": "display_data"
    }
   ],
   "source": [
    "display (food_data.info())"
   ]
  },
  {
   "cell_type": "code",
   "execution_count": 8,
   "id": "45f98131",
   "metadata": {},
   "outputs": [
    {
     "data": {
      "text/plain": [
       "index                   0\n",
       "ID                      0\n",
       "name                    0\n",
       "cuisine                 0\n",
       "taste                   0\n",
       "dietary_restrictions    0\n",
       "meat                    0\n",
       "KW                      0\n",
       "overview                0\n",
       "dtype: int64"
      ]
     },
     "metadata": {},
     "output_type": "display_data"
    }
   ],
   "source": [
    "display (food_data.isna().sum())"
   ]
  },
  {
   "cell_type": "code",
   "execution_count": 9,
   "id": "02e1577b",
   "metadata": {},
   "outputs": [
    {
     "data": {
      "text/html": [
       "<div>\n",
       "<style scoped>\n",
       "    .dataframe tbody tr th:only-of-type {\n",
       "        vertical-align: middle;\n",
       "    }\n",
       "\n",
       "    .dataframe tbody tr th {\n",
       "        vertical-align: top;\n",
       "    }\n",
       "\n",
       "    .dataframe thead th {\n",
       "        text-align: right;\n",
       "    }\n",
       "</style>\n",
       "<table border=\"1\" class=\"dataframe\">\n",
       "  <thead>\n",
       "    <tr style=\"text-align: right;\">\n",
       "      <th></th>\n",
       "      <th>index</th>\n",
       "      <th>ID</th>\n",
       "      <th>name</th>\n",
       "      <th>cuisine</th>\n",
       "      <th>taste</th>\n",
       "      <th>dietary_restrictions</th>\n",
       "      <th>meat</th>\n",
       "    </tr>\n",
       "  </thead>\n",
       "  <tbody>\n",
       "    <tr>\n",
       "      <th>0</th>\n",
       "      <td>1</td>\n",
       "      <td>1001</td>\n",
       "      <td>Butter chicken</td>\n",
       "      <td>Indian</td>\n",
       "      <td>spicy</td>\n",
       "      <td>nonvegetarian</td>\n",
       "      <td>chicken</td>\n",
       "    </tr>\n",
       "    <tr>\n",
       "      <th>1</th>\n",
       "      <td>2</td>\n",
       "      <td>1002</td>\n",
       "      <td>Biryani</td>\n",
       "      <td>Indian</td>\n",
       "      <td>spicy</td>\n",
       "      <td>nonvegetarian</td>\n",
       "      <td>chicken beef</td>\n",
       "    </tr>\n",
       "    <tr>\n",
       "      <th>2</th>\n",
       "      <td>3</td>\n",
       "      <td>1003</td>\n",
       "      <td>Tandoori Chicken</td>\n",
       "      <td>Indian</td>\n",
       "      <td>spicy</td>\n",
       "      <td>nonvegetarian</td>\n",
       "      <td>chicken</td>\n",
       "    </tr>\n",
       "    <tr>\n",
       "      <th>3</th>\n",
       "      <td>4</td>\n",
       "      <td>1004</td>\n",
       "      <td>Samosa</td>\n",
       "      <td>Indian</td>\n",
       "      <td>savory</td>\n",
       "      <td>vegetarian</td>\n",
       "      <td>no_meat</td>\n",
       "    </tr>\n",
       "    <tr>\n",
       "      <th>4</th>\n",
       "      <td>5</td>\n",
       "      <td>1005</td>\n",
       "      <td>Chole Bhature</td>\n",
       "      <td>Indian</td>\n",
       "      <td>spicy</td>\n",
       "      <td>vegetarian</td>\n",
       "      <td>no_meat</td>\n",
       "    </tr>\n",
       "  </tbody>\n",
       "</table>\n",
       "</div>"
      ],
      "text/plain": [
       "   index    ID              name  cuisine    taste dietary_restrictions  \\\n",
       "0      1  1001    Butter chicken  Indian     spicy        nonvegetarian   \n",
       "1      2  1002           Biryani  Indian    spicy        nonvegetarian    \n",
       "2      3  1003  Tandoori Chicken  Indian    spicy         nonvegetarian   \n",
       "3      4  1004            Samosa  Indian   savory            vegetarian   \n",
       "4      5  1005     Chole Bhature  Indian    spicy            vegetarian   \n",
       "\n",
       "           meat  \n",
       "0       chicken  \n",
       "1  chicken beef  \n",
       "2       chicken  \n",
       "3       no_meat  \n",
       "4       no_meat  "
      ]
     },
     "metadata": {},
     "output_type": "display_data"
    }
   ],
   "source": [
    "display (food_data[selected_features].head())"
   ]
  },
  {
   "cell_type": "code",
   "execution_count": 10,
   "id": "6b5321b1",
   "metadata": {},
   "outputs": [
    {
     "data": {
      "text/plain": [
       "index                   0\n",
       "ID                      0\n",
       "name                    0\n",
       "cuisine                 0\n",
       "taste                   0\n",
       "dietary_restrictions    0\n",
       "meat                    0\n",
       "dtype: int64"
      ]
     },
     "metadata": {},
     "output_type": "display_data"
    }
   ],
   "source": [
    "display (food_data[selected_features].isna().sum())"
   ]
  },
  {
   "cell_type": "code",
   "execution_count": 11,
   "id": "d2e25568",
   "metadata": {},
   "outputs": [
    {
     "data": {
      "text/html": [
       "<div>\n",
       "<style scoped>\n",
       "    .dataframe tbody tr th:only-of-type {\n",
       "        vertical-align: middle;\n",
       "    }\n",
       "\n",
       "    .dataframe tbody tr th {\n",
       "        vertical-align: top;\n",
       "    }\n",
       "\n",
       "    .dataframe thead th {\n",
       "        text-align: right;\n",
       "    }\n",
       "</style>\n",
       "<table border=\"1\" class=\"dataframe\">\n",
       "  <thead>\n",
       "    <tr style=\"text-align: right;\">\n",
       "      <th></th>\n",
       "      <th>index</th>\n",
       "      <th>ID</th>\n",
       "      <th>name</th>\n",
       "      <th>cuisine</th>\n",
       "      <th>taste</th>\n",
       "      <th>dietary_restrictions</th>\n",
       "      <th>meat</th>\n",
       "      <th>KW</th>\n",
       "      <th>overview</th>\n",
       "    </tr>\n",
       "  </thead>\n",
       "  <tbody>\n",
       "    <tr>\n",
       "      <th>0</th>\n",
       "      <td>1</td>\n",
       "      <td>1001</td>\n",
       "      <td>Butter chicken</td>\n",
       "      <td>Indian</td>\n",
       "      <td>spicy</td>\n",
       "      <td>nonvegetarian</td>\n",
       "      <td>chicken</td>\n",
       "      <td>creamy curry chicken tomato-based yogurt cream</td>\n",
       "      <td>Rich, creamy, and slightly sweet, with a mild ...</td>\n",
       "    </tr>\n",
       "    <tr>\n",
       "      <th>1</th>\n",
       "      <td>2</td>\n",
       "      <td>1002</td>\n",
       "      <td>Biryani</td>\n",
       "      <td>Indian</td>\n",
       "      <td>spicy</td>\n",
       "      <td>nonvegetarian</td>\n",
       "      <td>chicken beef</td>\n",
       "      <td>rice _dish spices  chicken beef  vegetables</td>\n",
       "      <td>This dish is a fragrant, flavorful rice dish m...</td>\n",
       "    </tr>\n",
       "    <tr>\n",
       "      <th>2</th>\n",
       "      <td>3</td>\n",
       "      <td>1003</td>\n",
       "      <td>Tandoori Chicken</td>\n",
       "      <td>Indian</td>\n",
       "      <td>spicy</td>\n",
       "      <td>nonvegetarian</td>\n",
       "      <td>chicken</td>\n",
       "      <td>marinated _chicken  spices</td>\n",
       "      <td>This dish is marinated chicken cooked in a tan...</td>\n",
       "    </tr>\n",
       "    <tr>\n",
       "      <th>3</th>\n",
       "      <td>4</td>\n",
       "      <td>1004</td>\n",
       "      <td>Samosa</td>\n",
       "      <td>Indian</td>\n",
       "      <td>savory</td>\n",
       "      <td>vegetarian</td>\n",
       "      <td>no_meat</td>\n",
       "      <td>deep_fried  baked_pastry spiced_potatoes</td>\n",
       "      <td>This dish is a deep-fried or baked pastry fill...</td>\n",
       "    </tr>\n",
       "    <tr>\n",
       "      <th>4</th>\n",
       "      <td>5</td>\n",
       "      <td>1005</td>\n",
       "      <td>Chole Bhature</td>\n",
       "      <td>Indian</td>\n",
       "      <td>spicy</td>\n",
       "      <td>vegetarian</td>\n",
       "      <td>no_meat</td>\n",
       "      <td>spicy_chickpeas  deep_fried bread</td>\n",
       "      <td>This dish consists of spicy chickpeas served w...</td>\n",
       "    </tr>\n",
       "  </tbody>\n",
       "</table>\n",
       "</div>"
      ],
      "text/plain": [
       "   index    ID              name  cuisine    taste dietary_restrictions  \\\n",
       "0      1  1001    Butter chicken  Indian     spicy        nonvegetarian   \n",
       "1      2  1002           Biryani  Indian    spicy        nonvegetarian    \n",
       "2      3  1003  Tandoori Chicken  Indian    spicy         nonvegetarian   \n",
       "3      4  1004            Samosa  Indian   savory            vegetarian   \n",
       "4      5  1005     Chole Bhature  Indian    spicy            vegetarian   \n",
       "\n",
       "           meat                                              KW   \\\n",
       "0       chicken  creamy curry chicken tomato-based yogurt cream    \n",
       "1  chicken beef      rice _dish spices  chicken beef  vegetables   \n",
       "2       chicken                       marinated _chicken  spices   \n",
       "3       no_meat         deep_fried  baked_pastry spiced_potatoes   \n",
       "4       no_meat                spicy_chickpeas  deep_fried bread   \n",
       "\n",
       "                                            overview  \n",
       "0  Rich, creamy, and slightly sweet, with a mild ...  \n",
       "1  This dish is a fragrant, flavorful rice dish m...  \n",
       "2  This dish is marinated chicken cooked in a tan...  \n",
       "3  This dish is a deep-fried or baked pastry fill...  \n",
       "4  This dish consists of spicy chickpeas served w...  "
      ]
     },
     "metadata": {},
     "output_type": "display_data"
    }
   ],
   "source": [
    "for feature in selected_features:\n",
    "  food_data[feature] = food_data[feature].fillna('')\n",
    "display (food_data.head())"
   ]
  },
  {
   "cell_type": "code",
   "execution_count": 12,
   "id": "3182ffac",
   "metadata": {},
   "outputs": [
    {
     "data": {
      "text/plain": [
       "0                           Butter chicken Indian  spicy\n",
       "1                                 Biryani Indian  spicy \n",
       "2                        Tandoori Chicken Indian  spicy \n",
       "3                                 Samosa Indian  savory \n",
       "4                           Chole Bhature Indian  spicy \n",
       "                             ...                        \n",
       "235            Dolma (Stuffed Vine Leaves) Turkish tangy\n",
       "236    Tavuk göğsü (Chicken Breast Pudding) Turkish s...\n",
       "237                                  Ayran Turkish tangy\n",
       "238                         Ottoman Pilaf Turkish spicy \n",
       "239     Keskek (Cornmeal and Chicken Stew) Turkish tangy\n",
       "Length: 240, dtype: object"
      ]
     },
     "metadata": {},
     "output_type": "display_data"
    }
   ],
   "source": [
    "combined_features =food_data['name']+' '+food_data['cuisine']+' '+food_data['taste']\n",
    "display (combined_features)"
   ]
  },
  {
   "cell_type": "code",
   "execution_count": 13,
   "id": "b5bf3830",
   "metadata": {},
   "outputs": [
    {
     "data": {
      "text/plain": [
       "(240, 359)"
      ]
     },
     "metadata": {},
     "output_type": "display_data"
    },
    {
     "name": "stdout",
     "output_type": "stream",
     "text": [
      "  (0, 295)\t0.30453077320616107\n",
      "  (0, 141)\t0.4103725928775425\n",
      "  (0, 63)\t0.5114423826092909\n",
      "  (0, 49)\t0.6908560142724038\n",
      "  (1, 30)\t0.8039589051973929\n",
      "  (1, 295)\t0.3543867636204793\n",
      "  (1, 141)\t0.47755638465464145\n",
      "  (2, 312)\t0.690856014272404\n",
      "  (2, 295)\t0.3045307732061611\n",
      "  (2, 141)\t0.41037259287754263\n",
      "  (2, 63)\t0.511442382609291\n",
      "  (3, 278)\t0.2932075811216091\n",
      "  (3, 273)\t0.8219707230209155\n",
      "  (3, 141)\t0.48825551186780114\n",
      "  (4, 27)\t0.6265745869732714\n",
      "  (4, 69)\t0.6265745869732714\n",
      "  (4, 295)\t0.2761953858696013\n",
      "  (4, 141)\t0.372189041674914\n",
      "  (5, 125)\t0.6265745869732714\n",
      "  (5, 6)\t0.6265745869732714\n",
      "  (5, 295)\t0.2761953858696013\n",
      "  (5, 141)\t0.372189041674914\n",
      "  (6, 186)\t0.6438850191710893\n",
      "  (6, 89)\t0.5988075507390033\n",
      "  (6, 295)\t0.2838258605167479\n",
      "  :\t:\n",
      "  (235, 300)\t0.45673251415275745\n",
      "  (235, 94)\t0.45673251415275745\n",
      "  (235, 338)\t0.271301837448349\n",
      "  (235, 313)\t0.3032770269241545\n",
      "  (236, 40)\t0.45234112406268434\n",
      "  (236, 132)\t0.45234112406268434\n",
      "  (236, 319)\t0.45234112406268434\n",
      "  (236, 249)\t0.42067336952054624\n",
      "  (236, 338)\t0.2686933255437403\n",
      "  (236, 304)\t0.1576798450904969\n",
      "  (236, 63)\t0.3348692310168765\n",
      "  (237, 15)\t0.7466516478028321\n",
      "  (237, 338)\t0.4435155319706352\n",
      "  (237, 313)\t0.4957875449566277\n",
      "  (238, 214)\t0.6438850191710893\n",
      "  (238, 235)\t0.5988075507390033\n",
      "  (238, 338)\t0.3824715416432047\n",
      "  (238, 295)\t0.2838258605167479\n",
      "  (239, 79)\t0.45105020272117474\n",
      "  (239, 156)\t0.45105020272117474\n",
      "  (239, 297)\t0.4194728237341243\n",
      "  (239, 338)\t0.2679265105675775\n",
      "  (239, 8)\t0.3796900310957696\n",
      "  (239, 313)\t0.29950388955462803\n",
      "  (239, 63)\t0.3339135588174267\n"
     ]
    }
   ],
   "source": [
    "vectorizer = TfidfVectorizer()\n",
    "feature_vectors = vectorizer.fit_transform(combined_features)\n",
    "display (feature_vectors.shape)\n",
    "print (feature_vectors)"
   ]
  },
  {
   "cell_type": "code",
   "execution_count": 14,
   "id": "125ada8e",
   "metadata": {},
   "outputs": [
    {
     "name": "stdout",
     "output_type": "stream",
     "text": [
      "[[1.         0.30389773 0.52271797 ... 0.         0.08643371 0.17077755]\n",
      " [0.30389773 1.         0.30389773 ... 0.         0.10058413 0.        ]\n",
      " [0.52271797 0.30389773 1.         ... 0.         0.08643371 0.17077755]\n",
      " ...\n",
      " [0.         0.         0.         ... 1.         0.16963207 0.26731987]\n",
      " [0.08643371 0.10058413 0.08643371 ... 0.16963207 1.         0.10247427]\n",
      " [0.17077755 0.         0.17077755 ... 0.26731987 0.10247427 1.        ]]\n"
     ]
    }
   ],
   "source": [
    "similarity = cosine_similarity(feature_vectors)\n",
    "print  (similarity )"
   ]
  },
  {
   "cell_type": "code",
   "execution_count": 15,
   "id": "8f35fb75",
   "metadata": {},
   "outputs": [
    {
     "data": {
      "text/plain": [
       "(240, 240)"
      ]
     },
     "metadata": {},
     "output_type": "display_data"
    }
   ],
   "source": [
    "display(similarity.shape)"
   ]
  },
  {
   "cell_type": "code",
   "execution_count": 16,
   "id": "9a1a0956",
   "metadata": {},
   "outputs": [
    {
     "name": "stdout",
     "output_type": "stream",
     "text": [
      " Enter your favourite food name : Tandoori Chicken\n"
     ]
    }
   ],
   "source": [
    "food_name = input(' Enter your favourite food name : ')"
   ]
  },
  {
   "cell_type": "code",
   "execution_count": 17,
   "id": "de5bf731",
   "metadata": {},
   "outputs": [
    {
     "name": "stdout",
     "output_type": "stream",
     "text": [
      "['Butter chicken', 'Biryani', 'Tandoori Chicken', 'Samosa', 'Chole Bhature', 'Aloo Gobhi', 'Dal Makhani', 'Paneer Tikka Masala', 'Masoor Dal', 'Chicken Tikka Masala', 'Vada Pav', 'Idli Sambar', 'Kadhai Paneer', 'Naan', 'Gulab Jamun', 'Rasgulla', 'Kulfi', 'Jalebi', 'Laddu', 'Kheer', 'Kung Pao Chicken', 'Hot and Sour Soup', 'Mapo Tofu', 'Chow Mein', 'Szechuan Chicken', 'Sweet and Sour Pork', 'Beef with Broccoli', 'Dumplings', 'Fried Rice', 'Won-ton Soup', 'Mongolian Beef', 'Mu Shu Pork', 'Shrimp with Lobster Sauce', 'Steamed Dumplings', 'Glutinous rice ball', 'Egg tart', 'Sweet soup or syrup', 'Sweet potato', 'Red date lotus seed sweet soup', 'Red bean paste bun', 'Margherita Pizza', 'Spaghetti Carbonara', 'Lasagna', 'Risotto', 'Fettuccine Alfredo', 'Osso Buco', 'Caprese Salad', 'Gnocchi', 'Pesto Pasta', 'Tiramisu', 'Minestrone Soup', 'Polenta', 'Veal Parmigiana', 'Calzone', 'Bolognese Sauce', 'Panna Cotta', 'Cannoli', 'Biscotti', 'Gelato', 'Zabaglione', 'Tacos', 'Burritos', 'Enchiladas', 'Tamales', 'Fajitas', 'Chiles Rellenos', 'Guacamole', 'Salsa', 'Quesadillas', 'Nachos', 'Pozole', 'Carne Asada', 'Churros', 'Flan', 'Huevos Rancheros', 'Pico de Gallo', 'Elote', 'Tres Leches Cake', 'Pastel de Tres Leches', 'Arroz con Leche', 'Hamburgers', 'Fried Chicken', 'Hot Dogs', 'Mac and Cheese', 'Barbecue Ribs', 'Sandwiches', 'French Toast', 'Chili', 'Clam Chowder', 'Crab Cake', 'Baked Potatoes', 'Roast Beef', 'Fried Fish', 'Jambalaya', 'Buffalo Wings', 'Apple Pie', 'Chocolate Chip Cookies', 'Brownies', 'Ice Cream Sundae', 'Cheesecake', 'Escargots', 'Coq au Vin', 'Quiche Lorraine', 'Bouillabaisse', 'Ratatouille', 'Croissants', 'Crème Brûlée', 'Tarte Tatin', 'Chocolate Mousse', 'Profiteroles', 'Cassoulet', 'Sole Meunière', 'Bouef Bourguignon', 'Blanquette de Veau', 'Crêpes', 'Beef Wellington', 'Escalope de Veau', 'Coq au Vin', 'Pissaladière', 'Confit de Canard', 'Tom Yum Soup', 'Pad Thai', 'Green Curry', 'Papaya Salad', 'Massaman Curry', 'Mango Sticky Rice', 'Pad Krapow Moo Saap', 'Pla Rad Prik ', 'Tom Kha Gai', 'Larb', 'Khao Soi', 'Nam Prik Pao', 'Yum Talay', 'Guay Tiew', 'Gai Tod', 'Pla Tom Yam', 'Khanom Tuay', 'Taro Balls', 'Kanom Krok', 'Roti Sai Mai', 'Bibimbap', 'Bulgogi', 'Japchae', 'Galbi', 'Samgyetang', 'Mandu', 'Jajangmyeon', 'Haemul Pajeon', 'Kimchi Fried Rice', 'Tteokbokki', 'Seolleongtang', 'Jjigae', 'Gimbap', 'Naengmyeon', 'Soondae', 'Patbingsu ', 'Hwaeori-bbang', 'Yakgwa ', 'Hotteok', 'Bingsu ', 'Souvlaki', 'Dolmades', 'Tzatziki', 'Gyro', 'Spanakopita', 'Greek Salad', 'Fried Calamari', 'Souzoukaklia', 'Baklava', 'Dolmah', 'Kota Riganati', 'Pastitsio', 'Stifado', 'Pilafi', 'Kokoretsi', 'Yemista', 'Galaktoboureko', 'Loukoumades', 'Rizogalo', 'Melomakarona', 'Sushi', 'Ramen', 'Tempura', 'Teriyaki', 'Bento Box', 'Udon', 'Tonkatsu', 'Okonomiyaki', 'Yakitori', 'Shabu-Shabu', 'Takoyaki', 'Sashimi', 'Miso Soup', 'Onigiri', 'Mochi', 'Anmitsu', 'Daifuku', 'Taiyaki', 'Yokan', 'Kasutera', 'Paella', 'Gazpacho', 'Churros con chocolate', 'Tortilla española', 'Patatas bravas', 'Pollo al ajillo', 'Fabada asturiana', 'Lomo embuchado', 'Callos a la madrileña', 'Albóndigas', 'Croquetas', 'Tostadas con tomate y aceite', 'Pimientos de Padrón', 'Empanadas gallegas', 'Chorizo a la sidra', 'Bacalao a la vizcaína', 'Arroz con leche', 'Flan', 'Tarta de Santiago', 'Turrón de Jijona.', 'Doner Kebab', 'Pilaf', 'Adana Kebab', 'Lahmacun', 'Iskender Kebab', 'Manti (Turkish Dumplings)', 'Borek', 'Kofte', 'Pide', 'Kebab', 'Turkish Delight', 'Baklava', 'Sutlac (Rice Pudding)', 'Fasulye (Green Beans Stew)', 'Cacik', 'Dolma (Stuffed Vine Leaves)', 'Tavuk göğsü (Chicken Breast Pudding)', 'Ayran', 'Ottoman Pilaf', 'Keskek (Cornmeal and Chicken Stew)']\n"
     ]
    }
   ],
   "source": [
    "list_of_all_dishes = food_data['name'].tolist()\n",
    "print(list_of_all_dishes)"
   ]
  },
  {
   "cell_type": "code",
   "execution_count": 18,
   "id": "21f66137",
   "metadata": {},
   "outputs": [
    {
     "data": {
      "text/plain": [
       "240"
      ]
     },
     "execution_count": 18,
     "metadata": {},
     "output_type": "execute_result"
    }
   ],
   "source": [
    "len(list_of_all_dishes)"
   ]
  },
  {
   "cell_type": "code",
   "execution_count": 19,
   "id": "b57924c4",
   "metadata": {},
   "outputs": [
    {
     "name": "stdout",
     "output_type": "stream",
     "text": [
      "['Tandoori Chicken', 'Fried Chicken', 'Szechuan Chicken']\n"
     ]
    }
   ],
   "source": [
    "find_close_match = difflib.get_close_matches(food_name, list_of_all_dishes)\n",
    "print(find_close_match)"
   ]
  },
  {
   "cell_type": "code",
   "execution_count": 20,
   "id": "599d13c4",
   "metadata": {},
   "outputs": [
    {
     "name": "stdout",
     "output_type": "stream",
     "text": [
      "Tandoori Chicken\n"
     ]
    }
   ],
   "source": [
    "close_match = find_close_match[0]\n",
    "print(close_match)"
   ]
  },
  {
   "cell_type": "code",
   "execution_count": 21,
   "id": "c4c0782f",
   "metadata": {},
   "outputs": [
    {
     "name": "stdout",
     "output_type": "stream",
     "text": [
      "3\n"
     ]
    }
   ],
   "source": [
    "index_of_the_food = food_data[food_data.name == close_match]['index'].values[0]\n",
    "print(index_of_the_food)"
   ]
  },
  {
   "cell_type": "code",
   "execution_count": 22,
   "id": "0bbaf77f",
   "metadata": {},
   "outputs": [
    {
     "name": "stdout",
     "output_type": "stream",
     "text": [
      "[(0, 0.20036668039194133), (1, 0.23316953703528853), (2, 0.20036668039194133), (3, 1.0), (4, 0.18172335105457152), (5, 0.18172335105457152), (6, 0.18674383833986993), (7, 0.16362459001421512), (8, 0.18962719510601114), (9, 0.17255652887961065), (10, 0.18172335105457152), (11, 0.171069626315018), (12, 0.17787216577918702), (13, 0.23885639359967778), (14, 0.18437707566959802), (15, 0.23885639359967778), (16, 0.23885639359967778), (17, 0.23885639359967778), (18, 0.23885639359967778), (19, 0.23885639359967778), (20, 0.0), (21, 0.0), (22, 0.0), (23, 0.0), (24, 0.0), (25, 0.0), (26, 0.0598534438651825), (27, 0.09336058715036188), (28, 0.07810308193238173), (29, 0.05980376210654709), (30, 0.07069699953078915), (31, 0.05718707000437251), (32, 0.050975378098356824), (33, 0.06964917549217704), (34, 0.0), (35, 0.0), (36, 0.0), (37, 0.0), (38, 0.0), (39, 0.0), (40, 0.06641414194699106), (41, 0.06641414194699106), (42, 0.08597068562718499), (43, 0.08597068562718499), (44, 0.06641414194699106), (45, 0.06641414194699106), (46, 0.06964917549217704), (47, 0.0), (48, 0.0), (49, 0.0), (50, 0.0), (51, 0.08597068562718499), (52, 0.0), (53, 0.0), (54, 0.0), (55, 0.0), (56, 0.0), (57, 0.0), (58, 0.0), (59, 0.0), (60, 0.0), (61, 0.0), (62, 0.0), (63, 0.0), (64, 0.08597068562718499), (65, 0.06641414194699106), (66, 0.0), (67, 0.0), (68, 0.08597068562718499), (69, 0.08597068562718499), (70, 0.08597068562718499), (71, 0.06641414194699106), (72, 0.0), (73, 0.0), (74, 0.0), (75, 0.0), (76, 0.0), (77, 0.0), (78, 0.0), (79, 0.0), (80, 0.08597068562718499), (81, 0.0), (82, 0.06830071956140278), (83, 0.0), (84, 0.0), (85, 0.0), (86, 0.0), (87, 0.0), (88, 0.0), (89, 0.0), (90, 0.06641414194699106), (91, 0.07069699953078915), (92, 0.0), (93, 0.0), (94, 0.0), (95, 0.0), (96, 0.0), (97, 0.0), (98, 0.0), (99, 0.0), (100, 0.08624727603584961), (101, 0.05973932029955725), (102, 0.06654141095752476), (103, 0.08624727603584961), (104, 0.08624727603584961), (105, 0.0), (106, 0.0), (107, 0.0), (108, 0.0), (109, 0.0), (110, 0.08624727603584961), (111, 0.06654141095752476), (112, 0.06654141095752476), (113, 0.0615929454005252), (114, 0.0), (115, 0.07085057090060173), (116, 0.0615929454005252), (117, 0.05973932029955725), (118, 0.08624727603584961), (119, 0.060198706364992076), (120, 0.0), (121, 0.0), (122, 0.0), (123, 0.0), (124, 0.0), (125, 0.0), (126, 0.050176525742742194), (127, 0.05837828229150152), (128, 0.0), (129, 0.0), (130, 0.0), (131, 0.0), (132, 0.0), (133, 0.06641414194699106), (134, 0.06830071956140278), (135, 0.0), (136, 0.0), (137, 0.0), (138, 0.0), (139, 0.0), (140, 0.0), (141, 0.0), (142, 0.0), (143, 0.0), (144, 0.0), (145, 0.08597068562718499), (146, 0.0), (147, 0.06641414194699106), (148, 0.06258001149215224), (149, 0.0), (150, 0.08597068562718499), (151, 0.0), (152, 0.0), (153, 0.0), (154, 0.08597068562718499), (155, 0.0), (156, 0.0), (157, 0.0), (158, 0.0), (159, 0.0), (160, 0.08597068562718499), (161, 0.0), (162, 0.0), (163, 0.08597068562718499), (164, 0.08597068562718499), (165, 0.0687625345091436), (166, 0.0), (167, 0.08597068562718499), (168, 0.0), (169, 0.0), (170, 0.06641414194699106), (171, 0.08597068562718499), (172, 0.08597068562718499), (173, 0.08597068562718499), (174, 0.08597068562718499), (175, 0.0), (176, 0.0), (177, 0.0), (178, 0.0), (179, 0.0), (180, 0.08597068562718499), (181, 0.08597068562718499), (182, 0.08597068562718499), (183, 0.0), (184, 0.06641414194699106), (185, 0.08597068562718499), (186, 0.08597068562718499), (187, 0.08597068562718499), (188, 0.08597068562718499), (189, 0.04941409067161897), (190, 0.08597068562718499), (191, 0.08597068562718499), (192, 0.07289568575941963), (193, 0.08597068562718499), (194, 0.0), (195, 0.0), (196, 0.0), (197, 0.0), (198, 0.0), (199, 0.0), (200, 0.08597068562718499), (201, 0.0), (202, 0.0), (203, 0.06641414194699106), (204, 0.0), (205, 0.05606592327346449), (206, 0.06641414194699106), (207, 0.0), (208, 0.0), (209, 0.08597068562718499), (210, 0.08597068562718499), (211, 0.0511039470113865), (212, 0.0), (213, 0.0), (214, 0.0), (215, 0.0), (216, 0.0), (217, 0.0), (218, 0.0), (219, 0.0), (220, 0.07069699953078915), (221, 0.0), (222, 0.0), (223, 0.0), (224, 0.0), (225, 0.0), (226, 0.0), (227, 0.0), (228, 0.08597068562718499), (229, 0.0), (230, 0.0), (231, 0.0), (232, 0.0), (233, 0.0), (234, 0.0), (235, 0.0), (236, 0.0), (237, 0.0), (238, 0.0), (239, 0.0)]\n"
     ]
    }
   ],
   "source": [
    "similarity_score = list(enumerate(similarity[index_of_the_food]))\n",
    "print(similarity_score)"
   ]
  },
  {
   "cell_type": "code",
   "execution_count": 23,
   "id": "2743ea2b",
   "metadata": {},
   "outputs": [
    {
     "data": {
      "text/plain": [
       "240"
      ]
     },
     "execution_count": 23,
     "metadata": {},
     "output_type": "execute_result"
    }
   ],
   "source": [
    "len(similarity_score)"
   ]
  },
  {
   "cell_type": "code",
   "execution_count": 24,
   "id": "c7a6aa11",
   "metadata": {},
   "outputs": [
    {
     "name": "stdout",
     "output_type": "stream",
     "text": [
      "[(3, 1.0), (13, 0.23885639359967778), (15, 0.23885639359967778), (16, 0.23885639359967778), (17, 0.23885639359967778), (18, 0.23885639359967778), (19, 0.23885639359967778), (1, 0.23316953703528853), (0, 0.20036668039194133), (2, 0.20036668039194133), (8, 0.18962719510601114), (6, 0.18674383833986993), (14, 0.18437707566959802), (4, 0.18172335105457152), (5, 0.18172335105457152), (10, 0.18172335105457152), (12, 0.17787216577918702), (9, 0.17255652887961065), (11, 0.171069626315018), (7, 0.16362459001421512), (27, 0.09336058715036188), (100, 0.08624727603584961), (103, 0.08624727603584961), (104, 0.08624727603584961), (110, 0.08624727603584961), (118, 0.08624727603584961), (42, 0.08597068562718499), (43, 0.08597068562718499), (51, 0.08597068562718499), (64, 0.08597068562718499), (68, 0.08597068562718499), (69, 0.08597068562718499), (70, 0.08597068562718499), (80, 0.08597068562718499), (145, 0.08597068562718499), (150, 0.08597068562718499), (154, 0.08597068562718499), (160, 0.08597068562718499), (163, 0.08597068562718499), (164, 0.08597068562718499), (167, 0.08597068562718499), (171, 0.08597068562718499), (172, 0.08597068562718499), (173, 0.08597068562718499), (174, 0.08597068562718499), (180, 0.08597068562718499), (181, 0.08597068562718499), (182, 0.08597068562718499), (185, 0.08597068562718499), (186, 0.08597068562718499), (187, 0.08597068562718499), (188, 0.08597068562718499), (190, 0.08597068562718499), (191, 0.08597068562718499), (193, 0.08597068562718499), (200, 0.08597068562718499), (209, 0.08597068562718499), (210, 0.08597068562718499), (228, 0.08597068562718499), (28, 0.07810308193238173), (192, 0.07289568575941963), (115, 0.07085057090060173), (30, 0.07069699953078915), (91, 0.07069699953078915), (220, 0.07069699953078915), (33, 0.06964917549217704), (46, 0.06964917549217704), (165, 0.0687625345091436), (82, 0.06830071956140278), (134, 0.06830071956140278), (102, 0.06654141095752476), (111, 0.06654141095752476), (112, 0.06654141095752476), (40, 0.06641414194699106), (41, 0.06641414194699106), (44, 0.06641414194699106), (45, 0.06641414194699106), (65, 0.06641414194699106), (71, 0.06641414194699106), (90, 0.06641414194699106), (133, 0.06641414194699106), (147, 0.06641414194699106), (170, 0.06641414194699106), (184, 0.06641414194699106), (203, 0.06641414194699106), (206, 0.06641414194699106), (148, 0.06258001149215224), (113, 0.0615929454005252), (116, 0.0615929454005252), (119, 0.060198706364992076), (26, 0.0598534438651825), (29, 0.05980376210654709), (101, 0.05973932029955725), (117, 0.05973932029955725), (127, 0.05837828229150152), (31, 0.05718707000437251), (205, 0.05606592327346449), (211, 0.0511039470113865), (32, 0.050975378098356824), (126, 0.050176525742742194), (189, 0.04941409067161897), (20, 0.0), (21, 0.0), (22, 0.0), (23, 0.0), (24, 0.0), (25, 0.0), (34, 0.0), (35, 0.0), (36, 0.0), (37, 0.0), (38, 0.0), (39, 0.0), (47, 0.0), (48, 0.0), (49, 0.0), (50, 0.0), (52, 0.0), (53, 0.0), (54, 0.0), (55, 0.0), (56, 0.0), (57, 0.0), (58, 0.0), (59, 0.0), (60, 0.0), (61, 0.0), (62, 0.0), (63, 0.0), (66, 0.0), (67, 0.0), (72, 0.0), (73, 0.0), (74, 0.0), (75, 0.0), (76, 0.0), (77, 0.0), (78, 0.0), (79, 0.0), (81, 0.0), (83, 0.0), (84, 0.0), (85, 0.0), (86, 0.0), (87, 0.0), (88, 0.0), (89, 0.0), (92, 0.0), (93, 0.0), (94, 0.0), (95, 0.0), (96, 0.0), (97, 0.0), (98, 0.0), (99, 0.0), (105, 0.0), (106, 0.0), (107, 0.0), (108, 0.0), (109, 0.0), (114, 0.0), (120, 0.0), (121, 0.0), (122, 0.0), (123, 0.0), (124, 0.0), (125, 0.0), (128, 0.0), (129, 0.0), (130, 0.0), (131, 0.0), (132, 0.0), (135, 0.0), (136, 0.0), (137, 0.0), (138, 0.0), (139, 0.0), (140, 0.0), (141, 0.0), (142, 0.0), (143, 0.0), (144, 0.0), (146, 0.0), (149, 0.0), (151, 0.0), (152, 0.0), (153, 0.0), (155, 0.0), (156, 0.0), (157, 0.0), (158, 0.0), (159, 0.0), (161, 0.0), (162, 0.0), (166, 0.0), (168, 0.0), (169, 0.0), (175, 0.0), (176, 0.0), (177, 0.0), (178, 0.0), (179, 0.0), (183, 0.0), (194, 0.0), (195, 0.0), (196, 0.0), (197, 0.0), (198, 0.0), (199, 0.0), (201, 0.0), (202, 0.0), (204, 0.0), (207, 0.0), (208, 0.0), (212, 0.0), (213, 0.0), (214, 0.0), (215, 0.0), (216, 0.0), (217, 0.0), (218, 0.0), (219, 0.0), (221, 0.0), (222, 0.0), (223, 0.0), (224, 0.0), (225, 0.0), (226, 0.0), (227, 0.0), (229, 0.0), (230, 0.0), (231, 0.0), (232, 0.0), (233, 0.0), (234, 0.0), (235, 0.0), (236, 0.0), (237, 0.0), (238, 0.0), (239, 0.0)]\n"
     ]
    }
   ],
   "source": [
    "sorted_similar_food = sorted(similarity_score, key = lambda x:x[1], reverse = True)\n",
    "print(sorted_similar_food)"
   ]
  },
  {
   "cell_type": "code",
   "execution_count": 25,
   "id": "18655464",
   "metadata": {},
   "outputs": [
    {
     "name": "stdout",
     "output_type": "stream",
     "text": [
      "Food suggested for you : \n",
      "\n",
      "1 . Samosa\n",
      "2 . Naan\n",
      "3 . Rasgulla\n",
      "4 . Kulfi\n",
      "5 . Jalebi\n"
     ]
    }
   ],
   "source": [
    "print('Food suggested for you : \\n')\n",
    "i = 1\n",
    "for food in sorted_similar_food:\n",
    "  index = food[0]\n",
    "  name_from_index = food_data[food_data.index==index]['name'].values[0]\n",
    "  if (i<6):\n",
    "    print(i, '.',name_from_index)\n",
    "    i+=1"
   ]
  },
  {
   "cell_type": "code",
   "execution_count": 26,
   "id": "88e2fd6a",
   "metadata": {},
   "outputs": [
    {
     "name": "stdout",
     "output_type": "stream",
     "text": [
      " Enter your favourite food name : Tandoori Chicken\n",
      "food suggested for you : \n",
      "\n",
      "1 . Samosa\n",
      "2 . Naan\n",
      "3 . Rasgulla\n",
      "4 . Kulfi\n",
      "5 . Jalebi\n"
     ]
    }
   ],
   "source": [
    "food_name = input(' Enter your favourite food name : ')\n",
    "\n",
    "list_of_all_dishes = food_data['name'].tolist()\n",
    "\n",
    "find_close_match = difflib.get_close_matches(food_name, list_of_all_dishes)\n",
    "\n",
    "close_match = find_close_match[0]\n",
    "\n",
    "index_of_the_food = food_data[food_data.name == close_match]['index'].values[0]\n",
    "\n",
    "similarity_score = list(enumerate(similarity[index_of_the_food]))\n",
    "\n",
    "sorted_similar_food = sorted(similarity_score, key = lambda x:x[1], reverse = True) \n",
    "\n",
    "print('food suggested for you : \\n')\n",
    "\n",
    "i = 1\n",
    "\n",
    "for food in sorted_similar_food:\n",
    "  index = food[0]\n",
    "  name_from_index = food_data[food_data.index==index]['name'].values[0]\n",
    "  if (i<6):\n",
    "    print(i, '.',name_from_index)\n",
    "    i+=1"
   ]
  },
  {
   "cell_type": "code",
   "execution_count": null,
   "id": "300b0e9b",
   "metadata": {},
   "outputs": [],
   "source": []
  },
  {
   "cell_type": "code",
   "execution_count": 28,
   "id": "459e40f8",
   "metadata": {},
   "outputs": [],
   "source": [
    "import pandas as pd\n",
    "import tkinter as tk\n",
    "from tkinter import ttk\n",
    "import difflib\n",
    "\n",
    "# read in the data from CSV file\n",
    "food_data = pd.read_csv(\"D:\\\\programming stuff\\\\pythone\\\\projects\\\\food recommendation system\\\\org.csv\")\n",
    "\n",
    "# create the main GUI window\n",
    "root = tk.Tk()\n",
    "root.title(\"Food Recommendation System\")\n",
    "\n",
    "# create the label and entry widget for user input\n",
    "input_label = ttk.Label(root, text=\"Enter your favorite food name:\")\n",
    "input_label.pack()\n",
    "input_entry = ttk.Entry(root)\n",
    "input_entry.pack()\n",
    "\n",
    "# create a function to recommend similar foods based on user input\n",
    "def recommend_food():\n",
    "    # get user input\n",
    "    food_name = input_entry.get()\n",
    "\n",
    "    # find the closest match in the food data\n",
    "    list_of_all_dishes = food_data['name'].tolist()\n",
    "    find_close_match = difflib.get_close_matches(food_name, list_of_all_dishes)\n",
    "    close_match = find_close_match[0]\n",
    "\n",
    "    # find the index of the food in the data\n",
    "    index_of_the_food = food_data[food_data.name == close_match]['index'].values[0]\n",
    "\n",
    "    # calculate the similarity scores for all foods\n",
    "    similarity_score = list(enumerate(similarity[index_of_the_food]))\n",
    "\n",
    "    # sort the foods by similarity score\n",
    "    sorted_similar_food = sorted(similarity_score, key = lambda x:x[1], reverse = True) \n",
    "\n",
    "    # display the top 5 recommended foods in a label\n",
    "    result_label.config(text=\"Food suggested for you:\")\n",
    "    i = 1\n",
    "    for food in sorted_similar_food:\n",
    "        index = food[0]\n",
    "        name_from_index = food_data[food_data.index==index]['name'].values[0]\n",
    "        if (i<6):\n",
    "            result_label.config(text=result_label.cget(\"text\") + f\"\\n{i}. {name_from_index}\")\n",
    "            i+=1\n",
    "\n",
    "# create the recommend button\n",
    "recommend_button = ttk.Button(root, text=\"Recommend Food\", command=recommend_food)\n",
    "recommend_button.pack()\n",
    "\n",
    "# create a label for displaying the recommendation result\n",
    "result_label = ttk.Label(root, text=\"\")\n",
    "result_label.pack()\n",
    "\n",
    "# run the GUI mainloop\n",
    "root.mainloop()\n",
    "\n"
   ]
  },
  {
   "cell_type": "code",
   "execution_count": 29,
   "id": "94fb0ee5",
   "metadata": {},
   "outputs": [
    {
     "ename": "FileNotFoundError",
     "evalue": "[Errno 2] No such file or directory: 'D:\\\\programming stuff\\\\pythone\\\\projects\\\\food recommendation system\\\\food_org.csv'",
     "output_type": "error",
     "traceback": [
      "\u001b[1;31m---------------------------------------------------------------------------\u001b[0m",
      "\u001b[1;31mFileNotFoundError\u001b[0m                         Traceback (most recent call last)",
      "Cell \u001b[1;32mIn[29], line 6\u001b[0m\n\u001b[0;32m      3\u001b[0m \u001b[38;5;28;01mfrom\u001b[39;00m \u001b[38;5;21;01mtkinter\u001b[39;00m \u001b[38;5;28;01mimport\u001b[39;00m ttk\n\u001b[0;32m      5\u001b[0m \u001b[38;5;66;03m# read in the data from CSV file\u001b[39;00m\n\u001b[1;32m----> 6\u001b[0m food_data \u001b[38;5;241m=\u001b[39m \u001b[43mpd\u001b[49m\u001b[38;5;241;43m.\u001b[39;49m\u001b[43mread_csv\u001b[49m\u001b[43m(\u001b[49m\u001b[38;5;124;43m\"\u001b[39;49m\u001b[38;5;124;43mD:\u001b[39;49m\u001b[38;5;130;43;01m\\\\\u001b[39;49;00m\u001b[38;5;124;43mprogramming stuff\u001b[39;49m\u001b[38;5;130;43;01m\\\\\u001b[39;49;00m\u001b[38;5;124;43mpythone\u001b[39;49m\u001b[38;5;130;43;01m\\\\\u001b[39;49;00m\u001b[38;5;124;43mprojects\u001b[39;49m\u001b[38;5;130;43;01m\\\\\u001b[39;49;00m\u001b[38;5;124;43mfood recommendation system\u001b[39;49m\u001b[38;5;130;43;01m\\\\\u001b[39;49;00m\u001b[38;5;124;43mfood_org.csv\u001b[39;49m\u001b[38;5;124;43m\"\u001b[39;49m\u001b[43m)\u001b[49m\n\u001b[0;32m      8\u001b[0m \u001b[38;5;66;03m# create the main GUI window\u001b[39;00m\n\u001b[0;32m      9\u001b[0m root \u001b[38;5;241m=\u001b[39m tk\u001b[38;5;241m.\u001b[39mTk()\n",
      "File \u001b[1;32m~\\anaconda3\\lib\\site-packages\\pandas\\util\\_decorators.py:211\u001b[0m, in \u001b[0;36mdeprecate_kwarg.<locals>._deprecate_kwarg.<locals>.wrapper\u001b[1;34m(*args, **kwargs)\u001b[0m\n\u001b[0;32m    209\u001b[0m     \u001b[38;5;28;01melse\u001b[39;00m:\n\u001b[0;32m    210\u001b[0m         kwargs[new_arg_name] \u001b[38;5;241m=\u001b[39m new_arg_value\n\u001b[1;32m--> 211\u001b[0m \u001b[38;5;28;01mreturn\u001b[39;00m func(\u001b[38;5;241m*\u001b[39margs, \u001b[38;5;241m*\u001b[39m\u001b[38;5;241m*\u001b[39mkwargs)\n",
      "File \u001b[1;32m~\\anaconda3\\lib\\site-packages\\pandas\\util\\_decorators.py:331\u001b[0m, in \u001b[0;36mdeprecate_nonkeyword_arguments.<locals>.decorate.<locals>.wrapper\u001b[1;34m(*args, **kwargs)\u001b[0m\n\u001b[0;32m    325\u001b[0m \u001b[38;5;28;01mif\u001b[39;00m \u001b[38;5;28mlen\u001b[39m(args) \u001b[38;5;241m>\u001b[39m num_allow_args:\n\u001b[0;32m    326\u001b[0m     warnings\u001b[38;5;241m.\u001b[39mwarn(\n\u001b[0;32m    327\u001b[0m         msg\u001b[38;5;241m.\u001b[39mformat(arguments\u001b[38;5;241m=\u001b[39m_format_argument_list(allow_args)),\n\u001b[0;32m    328\u001b[0m         \u001b[38;5;167;01mFutureWarning\u001b[39;00m,\n\u001b[0;32m    329\u001b[0m         stacklevel\u001b[38;5;241m=\u001b[39mfind_stack_level(),\n\u001b[0;32m    330\u001b[0m     )\n\u001b[1;32m--> 331\u001b[0m \u001b[38;5;28;01mreturn\u001b[39;00m func(\u001b[38;5;241m*\u001b[39margs, \u001b[38;5;241m*\u001b[39m\u001b[38;5;241m*\u001b[39mkwargs)\n",
      "File \u001b[1;32m~\\anaconda3\\lib\\site-packages\\pandas\\io\\parsers\\readers.py:950\u001b[0m, in \u001b[0;36mread_csv\u001b[1;34m(filepath_or_buffer, sep, delimiter, header, names, index_col, usecols, squeeze, prefix, mangle_dupe_cols, dtype, engine, converters, true_values, false_values, skipinitialspace, skiprows, skipfooter, nrows, na_values, keep_default_na, na_filter, verbose, skip_blank_lines, parse_dates, infer_datetime_format, keep_date_col, date_parser, dayfirst, cache_dates, iterator, chunksize, compression, thousands, decimal, lineterminator, quotechar, quoting, doublequote, escapechar, comment, encoding, encoding_errors, dialect, error_bad_lines, warn_bad_lines, on_bad_lines, delim_whitespace, low_memory, memory_map, float_precision, storage_options)\u001b[0m\n\u001b[0;32m    935\u001b[0m kwds_defaults \u001b[38;5;241m=\u001b[39m _refine_defaults_read(\n\u001b[0;32m    936\u001b[0m     dialect,\n\u001b[0;32m    937\u001b[0m     delimiter,\n\u001b[1;32m   (...)\u001b[0m\n\u001b[0;32m    946\u001b[0m     defaults\u001b[38;5;241m=\u001b[39m{\u001b[38;5;124m\"\u001b[39m\u001b[38;5;124mdelimiter\u001b[39m\u001b[38;5;124m\"\u001b[39m: \u001b[38;5;124m\"\u001b[39m\u001b[38;5;124m,\u001b[39m\u001b[38;5;124m\"\u001b[39m},\n\u001b[0;32m    947\u001b[0m )\n\u001b[0;32m    948\u001b[0m kwds\u001b[38;5;241m.\u001b[39mupdate(kwds_defaults)\n\u001b[1;32m--> 950\u001b[0m \u001b[38;5;28;01mreturn\u001b[39;00m \u001b[43m_read\u001b[49m\u001b[43m(\u001b[49m\u001b[43mfilepath_or_buffer\u001b[49m\u001b[43m,\u001b[49m\u001b[43m \u001b[49m\u001b[43mkwds\u001b[49m\u001b[43m)\u001b[49m\n",
      "File \u001b[1;32m~\\anaconda3\\lib\\site-packages\\pandas\\io\\parsers\\readers.py:605\u001b[0m, in \u001b[0;36m_read\u001b[1;34m(filepath_or_buffer, kwds)\u001b[0m\n\u001b[0;32m    602\u001b[0m _validate_names(kwds\u001b[38;5;241m.\u001b[39mget(\u001b[38;5;124m\"\u001b[39m\u001b[38;5;124mnames\u001b[39m\u001b[38;5;124m\"\u001b[39m, \u001b[38;5;28;01mNone\u001b[39;00m))\n\u001b[0;32m    604\u001b[0m \u001b[38;5;66;03m# Create the parser.\u001b[39;00m\n\u001b[1;32m--> 605\u001b[0m parser \u001b[38;5;241m=\u001b[39m TextFileReader(filepath_or_buffer, \u001b[38;5;241m*\u001b[39m\u001b[38;5;241m*\u001b[39mkwds)\n\u001b[0;32m    607\u001b[0m \u001b[38;5;28;01mif\u001b[39;00m chunksize \u001b[38;5;129;01mor\u001b[39;00m iterator:\n\u001b[0;32m    608\u001b[0m     \u001b[38;5;28;01mreturn\u001b[39;00m parser\n",
      "File \u001b[1;32m~\\anaconda3\\lib\\site-packages\\pandas\\io\\parsers\\readers.py:1442\u001b[0m, in \u001b[0;36mTextFileReader.__init__\u001b[1;34m(self, f, engine, **kwds)\u001b[0m\n\u001b[0;32m   1439\u001b[0m     \u001b[38;5;28mself\u001b[39m\u001b[38;5;241m.\u001b[39moptions[\u001b[38;5;124m\"\u001b[39m\u001b[38;5;124mhas_index_names\u001b[39m\u001b[38;5;124m\"\u001b[39m] \u001b[38;5;241m=\u001b[39m kwds[\u001b[38;5;124m\"\u001b[39m\u001b[38;5;124mhas_index_names\u001b[39m\u001b[38;5;124m\"\u001b[39m]\n\u001b[0;32m   1441\u001b[0m \u001b[38;5;28mself\u001b[39m\u001b[38;5;241m.\u001b[39mhandles: IOHandles \u001b[38;5;241m|\u001b[39m \u001b[38;5;28;01mNone\u001b[39;00m \u001b[38;5;241m=\u001b[39m \u001b[38;5;28;01mNone\u001b[39;00m\n\u001b[1;32m-> 1442\u001b[0m \u001b[38;5;28mself\u001b[39m\u001b[38;5;241m.\u001b[39m_engine \u001b[38;5;241m=\u001b[39m \u001b[38;5;28;43mself\u001b[39;49m\u001b[38;5;241;43m.\u001b[39;49m\u001b[43m_make_engine\u001b[49m\u001b[43m(\u001b[49m\u001b[43mf\u001b[49m\u001b[43m,\u001b[49m\u001b[43m \u001b[49m\u001b[38;5;28;43mself\u001b[39;49m\u001b[38;5;241;43m.\u001b[39;49m\u001b[43mengine\u001b[49m\u001b[43m)\u001b[49m\n",
      "File \u001b[1;32m~\\anaconda3\\lib\\site-packages\\pandas\\io\\parsers\\readers.py:1735\u001b[0m, in \u001b[0;36mTextFileReader._make_engine\u001b[1;34m(self, f, engine)\u001b[0m\n\u001b[0;32m   1733\u001b[0m     \u001b[38;5;28;01mif\u001b[39;00m \u001b[38;5;124m\"\u001b[39m\u001b[38;5;124mb\u001b[39m\u001b[38;5;124m\"\u001b[39m \u001b[38;5;129;01mnot\u001b[39;00m \u001b[38;5;129;01min\u001b[39;00m mode:\n\u001b[0;32m   1734\u001b[0m         mode \u001b[38;5;241m+\u001b[39m\u001b[38;5;241m=\u001b[39m \u001b[38;5;124m\"\u001b[39m\u001b[38;5;124mb\u001b[39m\u001b[38;5;124m\"\u001b[39m\n\u001b[1;32m-> 1735\u001b[0m \u001b[38;5;28mself\u001b[39m\u001b[38;5;241m.\u001b[39mhandles \u001b[38;5;241m=\u001b[39m \u001b[43mget_handle\u001b[49m\u001b[43m(\u001b[49m\n\u001b[0;32m   1736\u001b[0m \u001b[43m    \u001b[49m\u001b[43mf\u001b[49m\u001b[43m,\u001b[49m\n\u001b[0;32m   1737\u001b[0m \u001b[43m    \u001b[49m\u001b[43mmode\u001b[49m\u001b[43m,\u001b[49m\n\u001b[0;32m   1738\u001b[0m \u001b[43m    \u001b[49m\u001b[43mencoding\u001b[49m\u001b[38;5;241;43m=\u001b[39;49m\u001b[38;5;28;43mself\u001b[39;49m\u001b[38;5;241;43m.\u001b[39;49m\u001b[43moptions\u001b[49m\u001b[38;5;241;43m.\u001b[39;49m\u001b[43mget\u001b[49m\u001b[43m(\u001b[49m\u001b[38;5;124;43m\"\u001b[39;49m\u001b[38;5;124;43mencoding\u001b[39;49m\u001b[38;5;124;43m\"\u001b[39;49m\u001b[43m,\u001b[49m\u001b[43m \u001b[49m\u001b[38;5;28;43;01mNone\u001b[39;49;00m\u001b[43m)\u001b[49m\u001b[43m,\u001b[49m\n\u001b[0;32m   1739\u001b[0m \u001b[43m    \u001b[49m\u001b[43mcompression\u001b[49m\u001b[38;5;241;43m=\u001b[39;49m\u001b[38;5;28;43mself\u001b[39;49m\u001b[38;5;241;43m.\u001b[39;49m\u001b[43moptions\u001b[49m\u001b[38;5;241;43m.\u001b[39;49m\u001b[43mget\u001b[49m\u001b[43m(\u001b[49m\u001b[38;5;124;43m\"\u001b[39;49m\u001b[38;5;124;43mcompression\u001b[39;49m\u001b[38;5;124;43m\"\u001b[39;49m\u001b[43m,\u001b[49m\u001b[43m \u001b[49m\u001b[38;5;28;43;01mNone\u001b[39;49;00m\u001b[43m)\u001b[49m\u001b[43m,\u001b[49m\n\u001b[0;32m   1740\u001b[0m \u001b[43m    \u001b[49m\u001b[43mmemory_map\u001b[49m\u001b[38;5;241;43m=\u001b[39;49m\u001b[38;5;28;43mself\u001b[39;49m\u001b[38;5;241;43m.\u001b[39;49m\u001b[43moptions\u001b[49m\u001b[38;5;241;43m.\u001b[39;49m\u001b[43mget\u001b[49m\u001b[43m(\u001b[49m\u001b[38;5;124;43m\"\u001b[39;49m\u001b[38;5;124;43mmemory_map\u001b[39;49m\u001b[38;5;124;43m\"\u001b[39;49m\u001b[43m,\u001b[49m\u001b[43m \u001b[49m\u001b[38;5;28;43;01mFalse\u001b[39;49;00m\u001b[43m)\u001b[49m\u001b[43m,\u001b[49m\n\u001b[0;32m   1741\u001b[0m \u001b[43m    \u001b[49m\u001b[43mis_text\u001b[49m\u001b[38;5;241;43m=\u001b[39;49m\u001b[43mis_text\u001b[49m\u001b[43m,\u001b[49m\n\u001b[0;32m   1742\u001b[0m \u001b[43m    \u001b[49m\u001b[43merrors\u001b[49m\u001b[38;5;241;43m=\u001b[39;49m\u001b[38;5;28;43mself\u001b[39;49m\u001b[38;5;241;43m.\u001b[39;49m\u001b[43moptions\u001b[49m\u001b[38;5;241;43m.\u001b[39;49m\u001b[43mget\u001b[49m\u001b[43m(\u001b[49m\u001b[38;5;124;43m\"\u001b[39;49m\u001b[38;5;124;43mencoding_errors\u001b[39;49m\u001b[38;5;124;43m\"\u001b[39;49m\u001b[43m,\u001b[49m\u001b[43m \u001b[49m\u001b[38;5;124;43m\"\u001b[39;49m\u001b[38;5;124;43mstrict\u001b[39;49m\u001b[38;5;124;43m\"\u001b[39;49m\u001b[43m)\u001b[49m\u001b[43m,\u001b[49m\n\u001b[0;32m   1743\u001b[0m \u001b[43m    \u001b[49m\u001b[43mstorage_options\u001b[49m\u001b[38;5;241;43m=\u001b[39;49m\u001b[38;5;28;43mself\u001b[39;49m\u001b[38;5;241;43m.\u001b[39;49m\u001b[43moptions\u001b[49m\u001b[38;5;241;43m.\u001b[39;49m\u001b[43mget\u001b[49m\u001b[43m(\u001b[49m\u001b[38;5;124;43m\"\u001b[39;49m\u001b[38;5;124;43mstorage_options\u001b[39;49m\u001b[38;5;124;43m\"\u001b[39;49m\u001b[43m,\u001b[49m\u001b[43m \u001b[49m\u001b[38;5;28;43;01mNone\u001b[39;49;00m\u001b[43m)\u001b[49m\u001b[43m,\u001b[49m\n\u001b[0;32m   1744\u001b[0m \u001b[43m\u001b[49m\u001b[43m)\u001b[49m\n\u001b[0;32m   1745\u001b[0m \u001b[38;5;28;01massert\u001b[39;00m \u001b[38;5;28mself\u001b[39m\u001b[38;5;241m.\u001b[39mhandles \u001b[38;5;129;01mis\u001b[39;00m \u001b[38;5;129;01mnot\u001b[39;00m \u001b[38;5;28;01mNone\u001b[39;00m\n\u001b[0;32m   1746\u001b[0m f \u001b[38;5;241m=\u001b[39m \u001b[38;5;28mself\u001b[39m\u001b[38;5;241m.\u001b[39mhandles\u001b[38;5;241m.\u001b[39mhandle\n",
      "File \u001b[1;32m~\\anaconda3\\lib\\site-packages\\pandas\\io\\common.py:856\u001b[0m, in \u001b[0;36mget_handle\u001b[1;34m(path_or_buf, mode, encoding, compression, memory_map, is_text, errors, storage_options)\u001b[0m\n\u001b[0;32m    851\u001b[0m \u001b[38;5;28;01melif\u001b[39;00m \u001b[38;5;28misinstance\u001b[39m(handle, \u001b[38;5;28mstr\u001b[39m):\n\u001b[0;32m    852\u001b[0m     \u001b[38;5;66;03m# Check whether the filename is to be opened in binary mode.\u001b[39;00m\n\u001b[0;32m    853\u001b[0m     \u001b[38;5;66;03m# Binary mode does not support 'encoding' and 'newline'.\u001b[39;00m\n\u001b[0;32m    854\u001b[0m     \u001b[38;5;28;01mif\u001b[39;00m ioargs\u001b[38;5;241m.\u001b[39mencoding \u001b[38;5;129;01mand\u001b[39;00m \u001b[38;5;124m\"\u001b[39m\u001b[38;5;124mb\u001b[39m\u001b[38;5;124m\"\u001b[39m \u001b[38;5;129;01mnot\u001b[39;00m \u001b[38;5;129;01min\u001b[39;00m ioargs\u001b[38;5;241m.\u001b[39mmode:\n\u001b[0;32m    855\u001b[0m         \u001b[38;5;66;03m# Encoding\u001b[39;00m\n\u001b[1;32m--> 856\u001b[0m         handle \u001b[38;5;241m=\u001b[39m \u001b[38;5;28;43mopen\u001b[39;49m\u001b[43m(\u001b[49m\n\u001b[0;32m    857\u001b[0m \u001b[43m            \u001b[49m\u001b[43mhandle\u001b[49m\u001b[43m,\u001b[49m\n\u001b[0;32m    858\u001b[0m \u001b[43m            \u001b[49m\u001b[43mioargs\u001b[49m\u001b[38;5;241;43m.\u001b[39;49m\u001b[43mmode\u001b[49m\u001b[43m,\u001b[49m\n\u001b[0;32m    859\u001b[0m \u001b[43m            \u001b[49m\u001b[43mencoding\u001b[49m\u001b[38;5;241;43m=\u001b[39;49m\u001b[43mioargs\u001b[49m\u001b[38;5;241;43m.\u001b[39;49m\u001b[43mencoding\u001b[49m\u001b[43m,\u001b[49m\n\u001b[0;32m    860\u001b[0m \u001b[43m            \u001b[49m\u001b[43merrors\u001b[49m\u001b[38;5;241;43m=\u001b[39;49m\u001b[43merrors\u001b[49m\u001b[43m,\u001b[49m\n\u001b[0;32m    861\u001b[0m \u001b[43m            \u001b[49m\u001b[43mnewline\u001b[49m\u001b[38;5;241;43m=\u001b[39;49m\u001b[38;5;124;43m\"\u001b[39;49m\u001b[38;5;124;43m\"\u001b[39;49m\u001b[43m,\u001b[49m\n\u001b[0;32m    862\u001b[0m \u001b[43m        \u001b[49m\u001b[43m)\u001b[49m\n\u001b[0;32m    863\u001b[0m     \u001b[38;5;28;01melse\u001b[39;00m:\n\u001b[0;32m    864\u001b[0m         \u001b[38;5;66;03m# Binary mode\u001b[39;00m\n\u001b[0;32m    865\u001b[0m         handle \u001b[38;5;241m=\u001b[39m \u001b[38;5;28mopen\u001b[39m(handle, ioargs\u001b[38;5;241m.\u001b[39mmode)\n",
      "\u001b[1;31mFileNotFoundError\u001b[0m: [Errno 2] No such file or directory: 'D:\\\\programming stuff\\\\pythone\\\\projects\\\\food recommendation system\\\\food_org.csv'"
     ]
    }
   ],
   "source": [
    "import pandas as pd\n",
    "import tkinter as tk\n",
    "from tkinter import ttk\n",
    "\n",
    "# read in the data from CSV file\n",
    "food_data = pd.read_csv(\"D:\\\\programming stuff\\\\pythone\\\\projects\\\\food recommendation system\\\\food_org.csv\")\n",
    "\n",
    "# create the main GUI window\n",
    "root = tk.Tk()\n",
    "root.title(\"Food Recommendation System\")\n",
    "root.geometry(\"600x400\")\n",
    "# create the labels and dropdown menus for cuisine, taste, dietary restrictions, and type of meat\n",
    "cuisine_label = ttk.Label(root, text=\"Select Cuisine:\")\n",
    "cuisine_label.pack()\n",
    "cuisine_options = list(food_data[\"cuisine\"].unique())\n",
    "cuisine_dropdown = ttk.Combobox(root, values=cuisine_options)\n",
    "cuisine_dropdown.pack()\n",
    "\n",
    "taste_label = ttk.Label(root, text=\"Select Taste:\")\n",
    "taste_label.pack()\n",
    "taste_options = list(food_data[\"taste\"].unique())\n",
    "taste_dropdown = ttk.Combobox(root, values=taste_options)\n",
    "taste_dropdown.pack()\n",
    "\n",
    "diet_label = ttk.Label(root, text=\"Select Dietary Restrictions:\")\n",
    "diet_label.pack()\n",
    "diet_options = list(food_data[\"dietary_restrictions\"].unique())\n",
    "diet_dropdown = ttk.Combobox(root, values=diet_options)\n",
    "diet_dropdown.pack()\n",
    "\n",
    "meat_label = ttk.Label(root, text=\"Select Type of Meat:\")\n",
    "meat_label.pack()\n",
    "meat_options = list(food_data[\"meat\"].unique())\n",
    "meat_dropdown = ttk.Combobox(root, values=meat_options)\n",
    "meat_dropdown.pack()\n",
    "\n",
    "# create a function to recommend dishes based on user selections\n",
    "def recommend_dishes():\n",
    "    # get user selections\n",
    "    cuisine = cuisine_dropdown.get()\n",
    "    taste = taste_dropdown.get()\n",
    "    diet = diet_dropdown.get()\n",
    "    meat = meat_dropdown.get()\n",
    "\n",
    "    # filter the data based on user selections\n",
    "    filtered_data = food_data.loc[(food_data[\"cuisine\"] == cuisine) & (food_data[\"taste\"] == taste) & (food_data[\"dietary_restrictions\"] == diet) & (food_data[\"meat\"] == meat)]\n",
    "\n",
    "    # check if any dishes were recommended\n",
    "    if len(filtered_data) == 0:\n",
    "        result_label.config(text=\"No dishes found for your selections.\")\n",
    "    else:\n",
    "        # select 3 recommended dishes\n",
    "        recommended_dishes = filtered_data.sample(n=3)[\"name\"].values\n",
    "        result_label.config(text=f\"We recommend trying: {', '.join(recommended_dishes)}\")\n",
    "\n",
    "# create the recommend button\n",
    "recommend_button = ttk.Button(root, text=\"Recommend Dishes\", command=recommend_dishes)\n",
    "recommend_button.pack()\n",
    "\n",
    "# create a label for displaying the recommendation result\n",
    "result_label = ttk.Label(root, text=\"\")\n",
    "result_label.pack()\n",
    "\n",
    "# run the GUI mainloop\n",
    "root.mainloop()\n"
   ]
  },
  {
   "cell_type": "code",
   "execution_count": null,
   "id": "8c831da5",
   "metadata": {},
   "outputs": [],
   "source": []
  },
  {
   "cell_type": "code",
   "execution_count": 1,
   "id": "bb6ab313",
   "metadata": {},
   "outputs": [],
   "source": [
    "import pandas as pd\n",
    "import tkinter as tk\n",
    "from tkinter import ttk\n",
    "\n",
    "# read in the data from CSV file\n",
    "food_data = pd.read_csv(\"D:\\\\programming stuff\\\\pythone\\\\projects\\\\food recommendation system\\\\food_org.csv\")\n",
    "\n",
    "# create the main GUI window\n",
    "root = tk.Tk()\n",
    "root.title(\"Food Recommendation System\")\n",
    "root.geometry(\"600x400\")  # Set the dimensions to 600 pixels wide and 400 pixels high\n",
    "\n",
    "# Create a custom style for the labels and dropdown menus\n",
    "style = ttk.Style()\n",
    "style.configure(\"Custom.TLabel\", font=(\"Helvetica\", 12))  # Increase the font size for labels\n",
    "style.configure(\"Custom.TCombobox\", font=(\"Helvetica\", 12), height=10)  # Increase the font size and dropdown height\n",
    "\n",
    "# create the labels and dropdown menus for cuisine, taste, dietary restrictions, and type of meat\n",
    "cuisine_label = ttk.Label(root, text=\"Select Cuisine:\", style=\"Custom.TLabel\")\n",
    "cuisine_label.pack()\n",
    "cuisine_options = list(food_data[\"cuisine\"].unique())\n",
    "cuisine_dropdown = ttk.Combobox(root, values=cuisine_options, style=\"Custom.TCombobox\")\n",
    "cuisine_dropdown.pack()\n",
    "\n",
    "taste_label = ttk.Label(root, text=\"Select Taste:\", style=\"Custom.TLabel\")\n",
    "taste_label.pack()\n",
    "taste_options = list(food_data[\"taste\"].unique())\n",
    "taste_dropdown = ttk.Combobox(root, values=taste_options, style=\"Custom.TCombobox\")\n",
    "taste_dropdown.pack()\n",
    "\n",
    "diet_label = ttk.Label(root, text=\"Select Dietary Restrictions:\", style=\"Custom.TLabel\")\n",
    "diet_label.pack()\n",
    "diet_options = list(food_data[\"dietary_restrictions\"].unique())\n",
    "diet_dropdown = ttk.Combobox(root, values=diet_options, style=\"Custom.TCombobox\")\n",
    "diet_dropdown.pack()\n",
    "\n",
    "meat_label = ttk.Label(root, text=\"Select Type of Meat:\", style=\"Custom.TLabel\")\n",
    "meat_label.pack()\n",
    "meat_options = list(food_data[\"meat\"].unique())\n",
    "meat_dropdown = ttk.Combobox(root, values=meat_options, style=\"Custom.TCombobox\")\n",
    "meat_dropdown.pack()\n",
    "\n",
    "# create a function to recommend dishes based on user selections\n",
    "def recommend_dishes():\n",
    "    # get user selections\n",
    "    cuisine = cuisine_dropdown.get()\n",
    "    taste = taste_dropdown.get()\n",
    "    diet = diet_dropdown.get()\n",
    "    meat = meat_dropdown.get()\n",
    "\n",
    "    # filter the data based on user selections\n",
    "    filtered_data = food_data.loc[(food_data[\"cuisine\"] == cuisine) & (food_data[\"taste\"] == taste) & (food_data[\"dietary_restrictions\"] == diet) & (food_data[\"meat\"] == meat)]\n",
    "\n",
    "    # check if any dishes were recommended\n",
    "    if len(filtered_data) == 0:\n",
    "        result_label.config(text=\"No dishes found for your selections.\")\n",
    "    else:\n",
    "        # select 3 recommended dishes\n",
    "        recommended_dishes = filtered_data.sample(n=3)[\"name\"].values\n",
    "        result_label.config(text=f\"We recommend trying: {', '.join(recommended_dishes)}\")\n",
    "\n",
    "# create the recommend button\n",
    "recommend_button = ttk.Button(root, text=\"Recommend Dishes\", command=recommend_dishes)\n",
    "recommend_button.pack()\n",
    "\n",
    "# create a label for displaying the recommendation result\n",
    "result_label = ttk.Label(root, text=\"\")\n",
    "result_label.pack()\n",
    "\n",
    "# run the GUI mainloop\n",
    "root.mainloop()\n",
    "\n"
   ]
  },
  {
   "cell_type": "code",
   "execution_count": null,
   "id": "5c15dd36",
   "metadata": {},
   "outputs": [],
   "source": []
  }
 ],
 "metadata": {
  "kernelspec": {
   "display_name": "Python 3 (ipykernel)",
   "language": "python",
   "name": "python3"
  },
  "language_info": {
   "codemirror_mode": {
    "name": "ipython",
    "version": 3
   },
   "file_extension": ".py",
   "mimetype": "text/x-python",
   "name": "python",
   "nbconvert_exporter": "python",
   "pygments_lexer": "ipython3",
   "version": "3.10.9"
  }
 },
 "nbformat": 4,
 "nbformat_minor": 5
}
